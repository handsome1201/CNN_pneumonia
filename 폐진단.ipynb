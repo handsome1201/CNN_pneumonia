{
  "cells": [
    {
      "cell_type": "markdown",
      "metadata": {
        "id": "view-in-github",
        "colab_type": "text"
      },
      "source": [
        "<a href=\"https://colab.research.google.com/github/handsome1201/CNN_pneumonia/blob/main/%ED%8F%90%EC%A7%84%EB%8B%A8.ipynb\" target=\"_parent\"><img src=\"https://colab.research.google.com/assets/colab-badge.svg\" alt=\"Open In Colab\"/></a>"
      ]
    },
    {
      "cell_type": "code",
      "execution_count": null,
      "metadata": {
        "id": "Nd0ms2xYYYGt"
      },
      "outputs": [],
      "source": [
        "import os\n",
        "import cv2\n",
        "import time\n",
        "import pandas as pd\n",
        "import numpy as np\n",
        "import tensorflow as tf\n",
        "from tensorflow import keras\n",
        "from tensorflow.keras.models import load_model\n",
        "from sklearn.utils import shuffle\n",
        "from sklearn.model_selection import train_test_split"
      ]
    },
    {
      "cell_type": "markdown",
      "metadata": {
        "id": "o8l0X9VpJPye"
      },
      "source": [
        "데이터 가져오기"
      ]
    },
    {
      "cell_type": "code",
      "execution_count": null,
      "metadata": {
        "id": "I4o4gDIJbUPb"
      },
      "outputs": [],
      "source": [
        "train_file_0= os.listdir(\"/content/drive/MyDrive/폐질환/archive/chest_xray\"+ \"/train/NORMAL\")\n",
        "train_file_1= os.listdir(\"/content/drive/MyDrive/폐질환/archive/chest_xray\"+ \"/train/PNEUMONIA\")\n",
        "test_file_0= os.listdir(\"/content/drive/MyDrive/폐질환/archive/chest_xray\"+ \"/test/NORMAL\")\n",
        "test_file_1= os.listdir(\"/content/drive/MyDrive/폐질환/archive/chest_xray\"+ \"/test/PNEUMONIA\")"
      ]
    },
    {
      "cell_type": "markdown",
      "metadata": {
        "id": "OUsDL_O5JmuN"
      },
      "source": [
        "train데이터 세팅"
      ]
    },
    {
      "cell_type": "code",
      "execution_count": null,
      "metadata": {
        "id": "5HMDA6zobUSK"
      },
      "outputs": [],
      "source": [
        "X_full= 0\n",
        "check= False\n",
        "\n",
        "for file in train_file_0:\n",
        "    img_in= cv2.imread(\"/content/drive/MyDrive/폐질환/archive/chest_xray\"+ \"/train/NORMAL/\"+ file, cv2.IMREAD_GRAYSCALE)\n",
        "    img_res= cv2.resize(img_in, dsize= (100, 100), interpolation= cv2.INTER_LINEAR)\n",
        "    img_round= img_res/255\n",
        "    img_resh= img_round.reshape((100, 100, 1))\n",
        "    img= img_resh.reshape((1, )+ img_resh.shape)\n",
        "    \n",
        "    if(check== False):\n",
        "        X_full= img\n",
        "        check= True\n",
        "    else:\n",
        "        X_full= np.vstack((X_full, img))\n",
        "\n",
        "for file in train_file_1:\n",
        "    img_in= cv2.imread(\"/content/drive/MyDrive/폐질환/archive/chest_xray\"+ \"/train/PNEUMONIA/\"+ file, cv2.IMREAD_GRAYSCALE)\n",
        "    img_res= cv2.resize(img_in, dsize= (100, 100), interpolation= cv2.INTER_LINEAR)\n",
        "    img_round= img_res/255\n",
        "    img_resh= img_round.reshape((100, 100, 1))\n",
        "    img= img_resh.reshape((1, )+ img_resh.shape)\n",
        "    X_full= np.vstack((X_full, img))"
      ]
    },
    {
      "cell_type": "code",
      "execution_count": null,
      "metadata": {
        "id": "Bs5WyV73bUUg"
      },
      "outputs": [],
      "source": [
        "y_full= np.array([0]* len(train_file_0))\n",
        "y_full_1= np.array([1]* len(train_file_1))\n",
        "y_full= np.append(y_full, y_full_1)"
      ]
    },
    {
      "cell_type": "code",
      "execution_count": null,
      "metadata": {
        "id": "bIM8SLNIbUWu"
      },
      "outputs": [],
      "source": [
        "X_test, y_train= shuffle(X_full, y_full, random_state= 42)"
      ]
    },
    {
      "cell_type": "markdown",
      "metadata": {
        "id": "-GNMowVtfLv_"
      },
      "source": [
        "traiin 데이터와 val 데이터 분리"
      ]
    },
    {
      "cell_type": "code",
      "execution_count": null,
      "metadata": {
        "id": "-1l3AsnkbUZD"
      },
      "outputs": [],
      "source": [
        "X_train, X_val, y_train, y_val= train_test_split(X_full, y_full, test_size= 0.25)"
      ]
    },
    {
      "cell_type": "markdown",
      "metadata": {
        "id": "P7tzGgMuLXMj"
      },
      "source": [
        "데이터 저장"
      ]
    },
    {
      "cell_type": "code",
      "execution_count": null,
      "metadata": {
        "id": "W1BJxPz1bUbL"
      },
      "outputs": [],
      "source": [
        "np.save(\"/content/drive/MyDrive/폐질환/X_train\", X_train)\n",
        "np.save(\"/content/drive/MyDrive/폐질환/Y_train\", y_train)\n",
        "np.save(\"/content/drive/MyDrive/폐질환/X_val\", X_val)\n",
        "np.save(\"/content/drive/MyDrive/폐질환/Y_val\", y_val)"
      ]
    },
    {
      "cell_type": "code",
      "execution_count": null,
      "metadata": {
        "id": "MsDn0fhRLaRy"
      },
      "outputs": [],
      "source": [
        "X_test= 0\n",
        "check= False\n",
        "\n",
        "for file in test_file_0:\n",
        "    img_in= cv2.imread(\"/content/drive/MyDrive/폐질환/archive/chest_xray\"+ \"/test/NORMAL/\"+ file, cv2.IMREAD_GRAYSCALE)\n",
        "    img_res= cv2.resize(img_in, dsize= (100, 100), interpolation= cv2.INTER_LINEAR)\n",
        "    img_round= img_res/255\n",
        "    img_resh= img_round.reshape((100, 100, 1))\n",
        "    img= img_resh.reshape((1, )+ img_resh.shape)\n",
        "    \n",
        "    if(check== False):\n",
        "        X_test= img\n",
        "        check= True\n",
        "    else:\n",
        "        X_test= np.vstack((X_test, img))\n",
        "\n",
        "for file in test_file_1:\n",
        "    img_in= cv2.imread(\"/content/drive/MyDrive/폐질환/archive/chest_xray\"+ \"/test/PNEUMONIA/\"+ file, cv2.IMREAD_GRAYSCALE)\n",
        "    img_res= cv2.resize(img_in, dsize= (100, 100), interpolation= cv2.INTER_LINEAR)\n",
        "    img_round= img_res/255\n",
        "    img_resh= img_round.reshape((100, 100, 1))\n",
        "    img= img_resh.reshape((1, )+ img_resh.shape)\n",
        "    X_test= np.vstack((X_test, img))"
      ]
    },
    {
      "cell_type": "code",
      "execution_count": null,
      "metadata": {
        "id": "ppOM0WjFLnzE"
      },
      "outputs": [],
      "source": [
        "y_test= np.array([0]* len(test_file_0))\n",
        "y_test_1= np.array([1]* len(test_file_1))\n",
        "y_test= np.append(y_test, y_test_1)"
      ]
    },
    {
      "cell_type": "code",
      "execution_count": null,
      "metadata": {
        "id": "1HB7XWKpLo3i"
      },
      "outputs": [],
      "source": [
        "X_test, y_test= shuffle(X_test, y_test, random_state= 42)"
      ]
    },
    {
      "cell_type": "markdown",
      "metadata": {
        "id": "78eXC16qVE_s"
      },
      "source": [
        "데이터 저장"
      ]
    },
    {
      "cell_type": "code",
      "execution_count": null,
      "metadata": {
        "id": "OnfHp-dxLrQi"
      },
      "outputs": [],
      "source": [
        "np.save(\"/content/drive/MyDrive/폐질환/X_test\", X_test)\n",
        "np.save(\"/content/drive/MyDrive/폐질환/Y_test\", y_test)"
      ]
    },
    {
      "cell_type": "markdown",
      "metadata": {
        "id": "RkhWZ-tZVHDg"
      },
      "source": [
        "데이터 불러오기"
      ]
    },
    {
      "cell_type": "code",
      "execution_count": null,
      "metadata": {
        "id": "_uJyCM9XLsVy"
      },
      "outputs": [],
      "source": [
        "X_train= np.load(\"/content/drive/MyDrive/폐질환/X_train.npy\")\n",
        "y_train= np.load(\"/content/drive/MyDrive/폐질환/Y_train.npy\")\n",
        "X_val= np.load(\"/content/drive/MyDrive/폐질환/X_val.npy\")\n",
        "y_val= np.load(\"/content/drive/MyDrive/폐질환/Y_val.npy\")\n",
        "X_test= np.load(\"/content/drive/MyDrive/폐질환/X_test.npy\")\n",
        "y_test= np.load(\"/content/drive/MyDrive/폐질환/Y_test.npy\")"
      ]
    },
    {
      "cell_type": "markdown",
      "metadata": {
        "id": "3NpY3dChVJ4P"
      },
      "source": [
        "모양 확인"
      ]
    },
    {
      "cell_type": "code",
      "execution_count": null,
      "metadata": {
        "colab": {
          "base_uri": "https://localhost:8080/"
        },
        "id": "pj56yJpFLtXk",
        "outputId": "81c62d6f-8dcb-4c96-df65-201a78f7da24"
      },
      "outputs": [
        {
          "output_type": "stream",
          "name": "stdout",
          "text": [
            "(3912, 100, 100, 1)\n",
            "(3912,)\n",
            "(1304, 100, 100, 1)\n",
            "(1304,)\n",
            "(624, 100, 100, 1)\n",
            "(624,)\n"
          ]
        }
      ],
      "source": [
        "print(X_train.shape)\n",
        "print(y_train.shape)\n",
        "print(X_val.shape)\n",
        "print(y_val.shape)\n",
        "print(X_test.shape)\n",
        "print(y_test.shape)"
      ]
    },
    {
      "cell_type": "markdown",
      "metadata": {
        "id": "j85fBQ8fVc_3"
      },
      "source": [
        "모델 생성"
      ]
    },
    {
      "cell_type": "code",
      "execution_count": null,
      "metadata": {
        "id": "qTy4_-PoNkjB"
      },
      "outputs": [],
      "source": [
        "model= keras.models.Sequential()"
      ]
    },
    {
      "cell_type": "code",
      "execution_count": null,
      "metadata": {
        "id": "3TiyGrb2Nkqn"
      },
      "outputs": [],
      "source": [
        "model.add(keras.layers.Conv2D(64, 10, activation= \"relu\", padding= \"same\", input_shape= [100, 100, 1]))\n",
        "model.add(keras.layers.MaxPooling2D(2))\n",
        "model.add(keras.layers.Conv2D(128, 4, activation= \"relu\", padding= \"same\"))\n",
        "model.add(keras.layers.Conv2D(128, 4, activation= \"relu\", padding= \"same\")) \n",
        "model.add(keras.layers.MaxPooling2D(2))\n",
        "model.add(keras.layers.Conv2D(256, 4, activation= \"relu\", padding= \"same\"))\n",
        "model.add(keras.layers.Conv2D(256, 4, activation= \"relu\", padding= \"same\"))\n",
        "model.add(keras.layers.Flatten())\n",
        "model.add(keras.layers.Dense(128, activation= \"relu\"))\n",
        "model.add(keras.layers.Dropout(0.5))\n",
        "model.add(keras.layers.Dense(64, activation= \"relu\"))\n",
        "model.add(keras.layers.Dropout(0.5))\n",
        "model.add(keras.layers.Dense(32, activation= \"relu\"))\n",
        "model.add(keras.layers.Dropout(0.5))\n",
        "model.add(keras.layers.Dense(2, activation= \"softmax\"))"
      ]
    },
    {
      "cell_type": "code",
      "execution_count": null,
      "metadata": {
        "id": "dQnXIOErNktf"
      },
      "outputs": [],
      "source": [
        "model.compile(loss= \"sparse_categorical_crossentropy\", optimizer= \"sgd\", metrics= [\"accuracy\"])"
      ]
    },
    {
      "cell_type": "code",
      "execution_count": null,
      "metadata": {
        "colab": {
          "base_uri": "https://localhost:8080/"
        },
        "id": "OFpTAB4VNkwP",
        "outputId": "1c6dbcf8-1e38-42b0-bd18-184039c9d6bf"
      },
      "outputs": [
        {
          "output_type": "stream",
          "name": "stdout",
          "text": [
            "Model: \"sequential\"\n",
            "_________________________________________________________________\n",
            " Layer (type)                Output Shape              Param #   \n",
            "=================================================================\n",
            " conv2d (Conv2D)             (None, 100, 100, 64)      6464      \n",
            "                                                                 \n",
            " max_pooling2d (MaxPooling2D  (None, 50, 50, 64)       0         \n",
            " )                                                               \n",
            "                                                                 \n",
            " conv2d_1 (Conv2D)           (None, 50, 50, 128)       131200    \n",
            "                                                                 \n",
            " conv2d_2 (Conv2D)           (None, 50, 50, 128)       262272    \n",
            "                                                                 \n",
            " max_pooling2d_1 (MaxPooling  (None, 25, 25, 128)      0         \n",
            " 2D)                                                             \n",
            "                                                                 \n",
            " conv2d_3 (Conv2D)           (None, 25, 25, 256)       524544    \n",
            "                                                                 \n",
            " conv2d_4 (Conv2D)           (None, 25, 25, 256)       1048832   \n",
            "                                                                 \n",
            " flatten (Flatten)           (None, 160000)            0         \n",
            "                                                                 \n",
            " dense (Dense)               (None, 128)               20480128  \n",
            "                                                                 \n",
            " dropout (Dropout)           (None, 128)               0         \n",
            "                                                                 \n",
            " dense_1 (Dense)             (None, 64)                8256      \n",
            "                                                                 \n",
            " dropout_1 (Dropout)         (None, 64)                0         \n",
            "                                                                 \n",
            " dense_2 (Dense)             (None, 32)                2080      \n",
            "                                                                 \n",
            " dropout_2 (Dropout)         (None, 32)                0         \n",
            "                                                                 \n",
            " dense_3 (Dense)             (None, 2)                 66        \n",
            "                                                                 \n",
            "=================================================================\n",
            "Total params: 22,463,842\n",
            "Trainable params: 22,463,842\n",
            "Non-trainable params: 0\n",
            "_________________________________________________________________\n"
          ]
        }
      ],
      "source": [
        "model.summary()"
      ]
    },
    {
      "cell_type": "code",
      "execution_count": null,
      "metadata": {
        "colab": {
          "base_uri": "https://localhost:8080/"
        },
        "id": "cz1iSOLeNkyx",
        "outputId": "907e948e-0a15-483d-fb69-4c2005028110",
        "collapsed": true
      },
      "outputs": [
        {
          "output_type": "stream",
          "name": "stdout",
          "text": [
            "Epoch 1/30\n",
            "123/123 [==============================] - 1175s 10s/step - loss: 0.6120 - accuracy: 0.7247 - val_loss: 0.5671 - val_accuracy: 0.7615\n",
            "Epoch 2/30\n",
            "123/123 [==============================] - 1163s 9s/step - loss: 0.5813 - accuracy: 0.7365 - val_loss: 0.5046 - val_accuracy: 0.7615\n",
            "Epoch 3/30\n",
            "123/123 [==============================] - 1161s 9s/step - loss: 0.5269 - accuracy: 0.7352 - val_loss: 0.4165 - val_accuracy: 0.7615\n",
            "Epoch 4/30\n",
            "123/123 [==============================] - 1157s 9s/step - loss: 0.4560 - accuracy: 0.7372 - val_loss: 0.3200 - val_accuracy: 0.7615\n",
            "Epoch 5/30\n",
            "123/123 [==============================] - 1161s 9s/step - loss: 0.3874 - accuracy: 0.7339 - val_loss: 0.2954 - val_accuracy: 0.7615\n",
            "Epoch 6/30\n",
            "123/123 [==============================] - 1153s 9s/step - loss: 0.3788 - accuracy: 0.7794 - val_loss: 0.4004 - val_accuracy: 0.7623\n",
            "Epoch 7/30\n",
            "123/123 [==============================] - 1166s 9s/step - loss: 0.3512 - accuracy: 0.8474 - val_loss: 0.4190 - val_accuracy: 0.8597\n",
            "Epoch 8/30\n",
            "123/123 [==============================] - 1158s 9s/step - loss: 0.3049 - accuracy: 0.8949 - val_loss: 0.2113 - val_accuracy: 0.9540\n",
            "Epoch 9/30\n",
            "123/123 [==============================] - 1161s 9s/step - loss: 0.2760 - accuracy: 0.8993 - val_loss: 0.1871 - val_accuracy: 0.9571\n",
            "Epoch 10/30\n",
            "123/123 [==============================] - 1157s 9s/step - loss: 0.2694 - accuracy: 0.9113 - val_loss: 0.6632 - val_accuracy: 0.7615\n",
            "Epoch 11/30\n",
            "123/123 [==============================] - 1151s 9s/step - loss: 0.2541 - accuracy: 0.9123 - val_loss: 0.1658 - val_accuracy: 0.9601\n",
            "Epoch 12/30\n",
            "123/123 [==============================] - 1153s 9s/step - loss: 0.2515 - accuracy: 0.9185 - val_loss: 0.1925 - val_accuracy: 0.9225\n",
            "Epoch 13/30\n",
            "123/123 [==============================] - 1156s 9s/step - loss: 0.2335 - accuracy: 0.9190 - val_loss: 0.1511 - val_accuracy: 0.9563\n",
            "Epoch 14/30\n",
            "123/123 [==============================] - 1152s 9s/step - loss: 0.2084 - accuracy: 0.9284 - val_loss: 0.1348 - val_accuracy: 0.9663\n",
            "Epoch 15/30\n",
            "123/123 [==============================] - 1151s 9s/step - loss: 0.2075 - accuracy: 0.9310 - val_loss: 0.3121 - val_accuracy: 0.8758\n",
            "Epoch 16/30\n",
            "123/123 [==============================] - 1146s 9s/step - loss: 0.2099 - accuracy: 0.9236 - val_loss: 0.1613 - val_accuracy: 0.9394\n",
            "Epoch 17/30\n",
            "123/123 [==============================] - 1148s 9s/step - loss: 0.1872 - accuracy: 0.9407 - val_loss: 0.1745 - val_accuracy: 0.9502\n",
            "Epoch 18/30\n",
            "123/123 [==============================] - 1151s 9s/step - loss: 0.1863 - accuracy: 0.9392 - val_loss: 0.1161 - val_accuracy: 0.9716\n",
            "Epoch 19/30\n",
            "123/123 [==============================] - 1151s 9s/step - loss: 0.1858 - accuracy: 0.9374 - val_loss: 0.1415 - val_accuracy: 0.9448\n",
            "Epoch 20/30\n",
            " 87/123 [====================>.........] - ETA: 5:15 - loss: 0.1800 - accuracy: 0.9422"
          ]
        }
      ],
      "source": [
        "start_time= time.time()\n",
        "history= model.fit(X_train, y_train, epochs= 30, validation_data= (X_val, y_val))\n",
        "end_time= time.time()\n",
        "print(\"time: \", end_time- start_time)"
      ]
    },
    {
      "cell_type": "markdown",
      "metadata": {
        "id": "5ElhkVk4Vu3b"
      },
      "source": [
        "모델 저장"
      ]
    },
    {
      "cell_type": "code",
      "execution_count": null,
      "metadata": {
        "id": "Tx4PTruNNt65"
      },
      "outputs": [],
      "source": [
        "model.save(\"./model/learning_model\")"
      ]
    },
    {
      "cell_type": "code",
      "execution_count": null,
      "metadata": {
        "id": "7jZwDkibNt9n"
      },
      "outputs": [],
      "source": [
        "model= load_model(\"./model/learning_model\")"
      ]
    },
    {
      "cell_type": "markdown",
      "metadata": {
        "id": "eyf_G_9wVyFw"
      },
      "source": [
        "손실 정확도 확인"
      ]
    },
    {
      "cell_type": "code",
      "execution_count": null,
      "metadata": {
        "id": "T7DmJGNrNt_6"
      },
      "outputs": [],
      "source": [
        "import pandas as pd\n",
        "import matplotlib.pyplot as plt"
      ]
    },
    {
      "cell_type": "code",
      "execution_count": null,
      "metadata": {
        "id": "zKmeC9hcNuCo"
      },
      "outputs": [],
      "source": [
        "pd.DataFrame(history.history).plot(figsize= (8, 5))\n",
        "plt.grid(True)\n",
        "plt.gca().set_ylim(0, 1)\n",
        "plt.show()"
      ]
    },
    {
      "cell_type": "markdown",
      "metadata": {
        "id": "2FsZBPmBqA9S"
      },
      "source": [
        "테스트 데이터 확인"
      ]
    },
    {
      "cell_type": "code",
      "execution_count": null,
      "metadata": {
        "id": "PN6BvS6Cp8Y1"
      },
      "outputs": [],
      "source": [
        "temp=model.predict(X_test)\n",
        "y_pred= np.argmax(temp, axis=1)"
      ]
    },
    {
      "cell_type": "markdown",
      "metadata": {
        "id": "qOSR8LHYV7dC"
      },
      "source": [
        "정확도 확인"
      ]
    },
    {
      "cell_type": "code",
      "execution_count": null,
      "metadata": {
        "id": "pViOrEEvN0_R"
      },
      "outputs": [],
      "source": [
        "accuracy= 0\n",
        "\n",
        "for i in range(len(y_test)):\n",
        "    if(y_test[i]== y_pred[i]):\n",
        "        accuracy+= 1\n",
        "        \n",
        "print(\"accuracy: \", accuracy/len(y_test))"
      ]
    }
  ],
  "metadata": {
    "colab": {
      "collapsed_sections": [],
      "name": "폐진단",
      "provenance": [],
      "mount_file_id": "1DwmMSLOBad7mdHoZ4lNB4vAfys6DMNK9",
      "authorship_tag": "ABX9TyP2QeU8L6MmKovgkDBT32He",
      "include_colab_link": true
    },
    "gpuClass": "standard",
    "kernelspec": {
      "display_name": "Python 3",
      "name": "python3"
    },
    "language_info": {
      "name": "python"
    }
  },
  "nbformat": 4,
  "nbformat_minor": 0
}